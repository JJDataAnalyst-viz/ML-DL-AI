{
  "nbformat": 4,
  "nbformat_minor": 0,
  "metadata": {
    "colab": {
      "provenance": [],
      "authorship_tag": "ABX9TyPPtjB2+FjThoDh11MM+0Gk",
      "include_colab_link": true
    },
    "kernelspec": {
      "name": "python3",
      "display_name": "Python 3"
    },
    "language_info": {
      "name": "python"
    }
  },
  "cells": [
    {
      "cell_type": "markdown",
      "metadata": {
        "id": "view-in-github",
        "colab_type": "text"
      },
      "source": [
        "<a href=\"https://colab.research.google.com/github/JJDataAnalyst-viz/ML-DL-AI/blob/main/DL.ipynb\" target=\"_parent\"><img src=\"https://colab.research.google.com/assets/colab-badge.svg\" alt=\"Open In Colab\"/></a>"
      ]
    },
    {
      "cell_type": "markdown",
      "source": [
        "# The most important topic covered in Python & R"
      ],
      "metadata": {
        "id": "8gnmbu37c7pU"
      }
    },
    {
      "cell_type": "markdown",
      "source": [
        "Hi! Today i want to list all most important things to be better equiped in tools/functions and understanding for yourself and for your purpose as well.\n",
        "First i will cover some maths and stats and then we will move into more sophisticated topics *(I mean to see what is going on just by doing)*"
      ],
      "metadata": {
        "id": "zNXWhhsLdIgs"
      }
    },
    {
      "cell_type": "code",
      "execution_count": 8,
      "metadata": {
        "colab": {
          "base_uri": "https://localhost:8080/"
        },
        "id": "3bR5OVT5bzNw",
        "outputId": "07cee2cc-514d-4887-ed37-fb145d515a98"
      },
      "outputs": [
        {
          "output_type": "stream",
          "name": "stdout",
          "text": [
            "The rpy2.ipython extension is already loaded. To reload it, use:\n",
            "  %reload_ext rpy2.ipython\n"
          ]
        }
      ],
      "source": [
        "# load R extension to use R and Pytohn both in one place\n",
        "%load_ext rpy2.ipython\n",
        "# installing most important packages for Python\n",
        "import pandas as pd\n",
        "import numpy as np\n",
        "import seaborn as sns\n",
        "import matplotlib.pyplot as plt\n",
        "# use matplotlib inline\n",
        "%matplotlib inline"
      ]
    },
    {
      "cell_type": "code",
      "source": [
        "# using magic functions and uploading usefull packages for R\n",
        "%%R\n",
        "require(tidyverse)\n",
        "require(caret)"
      ],
      "metadata": {
        "colab": {
          "base_uri": "https://localhost:8080/"
        },
        "id": "OZTPZKgEcea-",
        "outputId": "f1141cee-a19b-48e2-8241-408c44386f6f"
      },
      "execution_count": 10,
      "outputs": [
        {
          "output_type": "stream",
          "name": "stderr",
          "text": [
            "WARNING:rpy2.rinterface_lib.callbacks:R[write to console]: Loading required package: caret\n",
            "\n"
          ]
        }
      ]
    },
    {
      "cell_type": "code",
      "source": [
        "# Lets see then some basics for python and R maths\n",
        "# First lets create an array\n",
        "python_array = np.array([1,2,3,4,5,6])\n",
        "print(python_array)\n",
        "print(type(python_array))"
      ],
      "metadata": {
        "colab": {
          "base_uri": "https://localhost:8080/"
        },
        "id": "0MuHCP3EeRDz",
        "outputId": "a86a8879-5f4d-4c27-953b-bbf5db155e70"
      },
      "execution_count": 17,
      "outputs": [
        {
          "output_type": "stream",
          "name": "stdout",
          "text": [
            "[1 2 3 4 5 6]\n",
            "<class 'numpy.ndarray'>\n"
          ]
        }
      ]
    },
    {
      "cell_type": "code",
      "source": [
        "%%R\n",
        "R_array <- c(1,2,3,4,5,6)\n",
        "print(R_array)\n",
        "print(typeof(R_array))"
      ],
      "metadata": {
        "colab": {
          "base_uri": "https://localhost:8080/"
        },
        "id": "L57rCMMxefsa",
        "outputId": "d2b0e984-52e7-4e83-ffd1-85f218a598f0"
      },
      "execution_count": 26,
      "outputs": [
        {
          "output_type": "stream",
          "name": "stdout",
          "text": [
            "[1] 1 2 3 4 5 6\n",
            "[1] \"double\"\n"
          ]
        }
      ]
    },
    {
      "cell_type": "code",
      "source": [],
      "metadata": {
        "colab": {
          "base_uri": "https://localhost:8080/"
        },
        "id": "bnfLYGwCehli",
        "outputId": "ff120ad8-b7b4-43f3-eb20-75e9ce30d0bb"
      },
      "execution_count": 24,
      "outputs": [
        {
          "output_type": "stream",
          "name": "stdout",
          "text": [
            "[1] \"double\"\n"
          ]
        }
      ]
    }
  ]
}